{
 "cells": [
  {
   "cell_type": "markdown",
   "metadata": {},
   "source": [
    "<center>\n",
    "    <img src=\"https://cf-courses-data.s3.us.cloud-object-storage.appdomain.cloud/IBMDeveloperSkillsNetwork-DS0105EN-SkillsNetwork/labs/Module2/images/SN_web_lightmode.png\" width=\"300\" alt=\"cognitiveclass.ai logo\">\n",
    "</center>\n"
   ]
  },
  {
   "cell_type": "markdown",
   "metadata": {},
   "source": [
    "<summary><H1>Assignment</H1></summary>"
   ]
  },
  {
   "cell_type": "markdown",
   "metadata": {},
   "source": [
    "<summary><strong><H2>Introduction</H2></strong></summary>\n",
    "This is my Assignment made on Jupyter Notebook on Skills Network labs, listing basics of the Data Science Languages, "
   ]
  },
  {
   "cell_type": "markdown",
   "metadata": {},
   "source": [
    "<summary><strong><H2>Data Science Languages</H2></strong></summary>\n",
    "Here are some widely used languages of the data science \n",
    "\n",
    "1. Python  \n",
    "\n",
    "2. R\n",
    "\n",
    "3. Java\n",
    "\n",
    "4. SQL\n",
    "\n",
    "5. Go\n",
    "\n",
    "6. JavaScript\n",
    "\n",
    "7. Julia"
   ]
  },
  {
   "cell_type": "markdown",
   "metadata": {},
   "source": [
    "<summary><strong><H2>Data Science Libraries</H2></strong></summary>\n",
    "Following are the majorly used libraries in Data Science\n",
    "\n",
    "1. Panadas\n",
    "\n",
    "2. Numpy\n",
    "\n",
    "3. Matplotlib\n",
    "\n",
    "4. Seaborn\n",
    "\n",
    "5. Scklearn\n",
    "\n",
    "6. Scipy\n",
    "\n",
    "7. PyTorch\n",
    "\n",
    "8. Tensorflow"
   ]
  },
  {
   "cell_type": "markdown",
   "metadata": {},
   "source": [
    "<summary><strong><H2>Data Science Tools</H2></strong></summary>\n",
    "Some of the mainstream data science tools are\n",
    "\n",
    "1. Jupyter Notebook\n",
    "\n",
    "2. R studios\n",
    "\n",
    "3. GitHub\n",
    "\n",
    "4. Git Lab\n",
    "\n",
    "5. SQL\n",
    "\n",
    "6. Google Colab\n",
    "\n",
    "7. Tableau\n",
    "\n",
    "8. Power BI\n",
    "\n",
    "9. IBM Watson Studios"
   ]
  },
  {
   "cell_type": "markdown",
   "metadata": {},
   "source": [
    "<summary><strong><H2>Arithmetic expressions</H2></strong></summary>\n",
    "Arithmetic expressions allow you to perform basic mathematical operations in Python. Here are some commonly used operators:\n",
    "\n",
    "- `+` : Addition  \n",
    "- `-` : Subtraction  \n",
    "- `*` : Multiplication  \n",
    "- `/` : Division  \n",
    "- `//` : Floor Division  \n",
    "- `%` : Modulus (remainder)  \n",
    "- `**` : Exponentiation  "
   ]
  },
  {
   "cell_type": "markdown",
   "metadata": {},
   "source": [
    "<summary>Here is an example of an Arithmetic expressions where we are multiplying and adding two numbers</summary>"
   ]
  },
  {
   "cell_type": "code",
   "execution_count": 7,
   "metadata": {},
   "outputs": [
    {
     "name": "stdout",
     "output_type": "stream",
     "text": [
      "12\n",
      "20\n"
     ]
    }
   ],
   "source": [
    "a = 10\n",
    "b = 2\n",
    "print(a+b)\n",
    "print(a*b)"
   ]
  },
  {
   "cell_type": "markdown",
   "metadata": {},
   "source": [
    "<summary><strong><H2>Mintues to Hours</H2></strong></summary>\n",
    "Below code takes the minute as input, convert and print them in hours as result  "
   ]
  },
  {
   "cell_type": "code",
   "execution_count": 1,
   "metadata": {},
   "outputs": [
    {
     "name": "stdin",
     "output_type": "stream",
     "text": [
      "Enter minutes to convert into hours 15\n"
     ]
    },
    {
     "name": "stdout",
     "output_type": "stream",
     "text": [
      "0.25\n"
     ]
    }
   ],
   "source": [
    "minutes = input(\"Enter minutes to convert into hours\")\n",
    "minutes = int(minutes)\n",
    "hours = minutes/60\n",
    "print(hours)"
   ]
  },
  {
   "cell_type": "markdown",
   "metadata": {},
   "source": [
    "<summary><H2><strong>Objectives</strong></H2></summary>\n",
    "\n",
    "1. Objective 1\n",
    "\n",
    "2. Objective 2"
   ]
  },
  {
   "cell_type": "markdown",
   "metadata": {},
   "source": [
    "<H2><strong>Author’s name:</strong><H2><summary>Md Faizan ur Rehman</summary>"
   ]
  },
  {
   "cell_type": "code",
   "execution_count": null,
   "metadata": {},
   "outputs": [],
   "source": []
  }
 ],
 "metadata": {
  "kernelspec": {
   "display_name": "Python 3 (ipykernel)",
   "language": "python",
   "name": "python3"
  },
  "language_info": {
   "codemirror_mode": {
    "name": "ipython",
    "version": 3
   },
   "file_extension": ".py",
   "mimetype": "text/x-python",
   "name": "python",
   "nbconvert_exporter": "python",
   "pygments_lexer": "ipython3",
   "version": "3.12.8"
  }
 },
 "nbformat": 4,
 "nbformat_minor": 4
}
